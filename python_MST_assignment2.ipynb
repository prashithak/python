{
 "cells": [
  {
   "cell_type": "code",
   "execution_count": 42,
   "id": "f36d2283",
   "metadata": {},
   "outputs": [
    {
     "name": "stdout",
     "output_type": "stream",
     "text": [
      "guess the number  5\n",
      "too low! try again\n",
      "do you want to continue?y/n yes\n",
      "guess the number  15\n",
      "too high!try again\n",
      "do you want to continue?y/n yes\n",
      "guess the number  7\n",
      "congradulation ! you guessed the number correctly\n",
      "do you want to continue?y/n no\n",
      "thank you\n"
     ]
    }
   ],
   "source": [
    "an='yes'\n",
    "secretNumber=7\n",
    "while an=='yes':\n",
    "    num=int(input(\"guess the number  \"))\n",
    "    if secretNumber==num:\n",
    "        print(\"congradulation ! you guessed the number correctly\")\n",
    "    elif num>secretNumber:\n",
    "        print(\"too high!try again\")\n",
    "    else :\n",
    "        print(\"too low! try again\")\n",
    "    an=input(\"do you want to continue?y/n \")\n",
    "    an=an.lower()\n",
    "print(\"thank you\")\n",
    "\n"
   ]
  },
  {
   "cell_type": "code",
   "execution_count": 46,
   "id": "44a0787a",
   "metadata": {},
   "outputs": [
    {
     "name": "stdout",
     "output_type": "stream",
     "text": [
      "enter the number 5\n",
      "the factorial of 5 is 120\n"
     ]
    }
   ],
   "source": [
    "# factorial of a number\n",
    "\n",
    "N=int(input(\"enter the number \"))\n",
    "fact=1\n",
    "if N<0:\n",
    "    print(\"invalid number! try another number \")\n",
    "elif N==1:\n",
    "    print (\"the factorial of\",N,\"is 1\")\n",
    "else:\n",
    "    for i in range(1,N+1):\n",
    "        fact=fact*i\n",
    "    print(\"the factorial of\",N, \"is\",fact)\n"
   ]
  },
  {
   "cell_type": "code",
   "execution_count": 31,
   "id": "94dc3ec6",
   "metadata": {},
   "outputs": [
    {
     "name": "stdout",
     "output_type": "stream",
     "text": [
      "enter the number of photo 3\n",
      "enter the width of the photo  176\n",
      "enter the height of the photo  176\n",
      "ACCEPTED\n",
      "enter the width of the photo  149\n",
      "enter the height of the photo  138\n",
      "UPLOAD ANOTHER1\n",
      "enter the width of the photo  189\n",
      "enter the height of the photo  196\n",
      "CROP IT\n"
     ]
    }
   ],
   "source": [
    "L=176\n",
    "N=int(input(\"enter the number of photo \"))\n",
    "for i in range(N):\n",
    "    W=int(input(\"enter the width of the photo  \"))\n",
    "    h=int(input(\"enter the height of the photo  \"))\n",
    "    if W<L or H<L:\n",
    "        print(\"UPLOAD ANOTHER\")\n",
    "    elif W>L or H>L:\n",
    "        print(\"CROP IT\")\n",
    "    elif W>L or H<L:\n",
    "        print(\"UPLOAD ANOTHER\")\n",
    "    elif W<L or H>L:\n",
    "        print(\"UPLOAD ANOTHER\")\n",
    "    elif W==L and H>L:\n",
    "        print(\"UPLOAD ANOTHER\")\n",
    "    elif W<L and H==L:\n",
    "        print(\"UPLOAD ANOTHER\")\n",
    "    elif W>L and H==L:\n",
    "        print(\"UPLOAD ANOTHER\")\n",
    "    elif W==L and H<L:\n",
    "        print(\"UPLOAD ANOTHER\")\n",
    "    elif W>L and H>L:\n",
    "        print(\"CROP IT\")\n",
    "    else:\n",
    "        print(\"ACCEPTED\")\n",
    "\n",
    "        "
   ]
  },
  {
   "cell_type": "code",
   "execution_count": null,
   "id": "5197bd55",
   "metadata": {},
   "outputs": [],
   "source": []
  }
 ],
 "metadata": {
  "kernelspec": {
   "display_name": "Python 3 (ipykernel)",
   "language": "python",
   "name": "python3"
  },
  "language_info": {
   "codemirror_mode": {
    "name": "ipython",
    "version": 3
   },
   "file_extension": ".py",
   "mimetype": "text/x-python",
   "name": "python",
   "nbconvert_exporter": "python",
   "pygments_lexer": "ipython3",
   "version": "3.10.9"
  }
 },
 "nbformat": 4,
 "nbformat_minor": 5
}
