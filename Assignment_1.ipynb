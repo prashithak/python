{
  "nbformat": 4,
  "nbformat_minor": 0,
  "metadata": {
    "colab": {
      "provenance": []
    },
    "kernelspec": {
      "name": "python3",
      "display_name": "Python 3"
    },
    "language_info": {
      "name": "python"
    }
  },
  "cells": [
    {
      "cell_type": "code",
      "execution_count": null,
      "metadata": {
        "colab": {
          "base_uri": "https://localhost:8080/"
        },
        "id": "1bs6vvjWG1Zy",
        "outputId": "a28f5c91-6019-417a-bd38-2e1a5f2105ad"
      },
      "outputs": [
        {
          "output_type": "stream",
          "name": "stdout",
          "text": [
            "Enter the name MEERA\n",
            "Enter the roll number  2\n",
            "Enter the mark 34\n",
            "Name: MEERA\n",
            "Roll Number: 2\n",
            "Mark: 34\n"
          ]
        }
      ],
      "source": [
        "#Program to access the details of a student\n",
        "\n",
        "name=input(\"Enter the name \")\n",
        "rno=int(input(\"Enter the roll number  \"))\n",
        "mark=int(input(\"Enter the mark \"))\n",
        "print(\"Name:\",name)\n",
        "print(\"Roll Number:\",rno)\n",
        "print(\"Mark:\",mark)"
      ]
    },
    {
      "cell_type": "code",
      "source": [
        "# program to covert fahrenheit to celsius\n",
        "\n",
        "fh=int(input(\"Temperature in Fahrenheit = \"))\n",
        "cels=int(((fh-32)*5)/9)\n",
        "print(\"Temperature in celsius = \",cels)"
      ],
      "metadata": {
        "colab": {
          "base_uri": "https://localhost:8080/"
        },
        "id": "s4KErTG5NS0c",
        "outputId": "a1127bfd-fe34-4915-93fc-32f89b772cc6"
      },
      "execution_count": null,
      "outputs": [
        {
          "output_type": "stream",
          "name": "stdout",
          "text": [
            "Temperature in Fahrenheit = 41\n",
            "Temperature in celsius =  5\n"
          ]
        }
      ]
    },
    {
      "cell_type": "code",
      "source": [
        "# program to find the product of two numbers\n",
        "\n",
        "a=int(input(\"Enter the first number \"))\n",
        "b=int(input(\"Enter the second number \"))\n",
        "c=a*b\n",
        "print(\"product of two numbers is \",c)"
      ],
      "metadata": {
        "colab": {
          "base_uri": "https://localhost:8080/"
        },
        "id": "GjsgAPwsPaGF",
        "outputId": "6227bce4-5633-4e2c-ce87-353ff6a60386"
      },
      "execution_count": null,
      "outputs": [
        {
          "output_type": "stream",
          "name": "stdout",
          "text": [
            "Enter the first number 16\n",
            "Enter the second number 2\n",
            "product of two numbers is  32\n"
          ]
        }
      ]
    },
    {
      "cell_type": "code",
      "source": [
        "#  string concatenation\n",
        "\n",
        "str1=\" learn python by Developing a website\"\n",
        "str1[0]\n",
        "Str2=\"learn**python**by**developing**a**website\"\n",
        "str1\n",
        "Str2"
      ],
      "metadata": {
        "colab": {
          "base_uri": "https://localhost:8080/",
          "height": 35
        },
        "id": "U42-KuA5Kewc",
        "outputId": "02d45626-a819-481d-8c1a-5ca9225dab3e"
      },
      "execution_count": 2,
      "outputs": [
        {
          "output_type": "execute_result",
          "data": {
            "text/plain": [
              "'learn+**python**by**developing**a**website'"
            ],
            "application/vnd.google.colaboratory.intrinsic+json": {
              "type": "string"
            }
          },
          "metadata": {},
          "execution_count": 2
        }
      ]
    },
    {
      "cell_type": "code",
      "source": [
        "\n",
        "#area of a circle \n",
        "\n",
        "pi=3.14\n",
        "r=int(input(\"enter the radius of the circle\"))\n",
        "area=pi*r**2\n",
        "print(\"the area of the circle is \",area)"
      ],
      "metadata": {
        "id": "cBUMGTZZTjrl",
        "colab": {
          "base_uri": "https://localhost:8080/"
        },
        "outputId": "bd76102d-22c8-4dca-eac8-a9c845d0eff9"
      },
      "execution_count": null,
      "outputs": [
        {
          "output_type": "stream",
          "name": "stdout",
          "text": [
            "enter the radius of the circle5\n",
            "the area of the circle is  78.5\n"
          ]
        }
      ]
    },
    {
      "cell_type": "code",
      "source": [
        "\n",
        "# inserting elements in to a list\n",
        "\n",
        "l1=[4,8,'hello',75]\n",
        "print (l1)\n",
        "value=input(\"enter the element to be inserted  \")\n",
        "pos=int(input(\"enter the position \"))\n",
        "l1.insert(pos,value)\n",
        "l1"
      ],
      "metadata": {
        "id": "KWQqmFukHKQX",
        "colab": {
          "base_uri": "https://localhost:8080/"
        },
        "outputId": "e005dc98-0afb-4d28-8940-a4554fb67957"
      },
      "execution_count": 3,
      "outputs": [
        {
          "name": "stdout",
          "output_type": "stream",
          "text": [
            "[4, 8, 'hello', 75]\n",
            "enter the element to be inserted  55\n",
            "enter the position 1\n"
          ]
        },
        {
          "output_type": "execute_result",
          "data": {
            "text/plain": [
              "[4, '55', 8, 'hello', 75]"
            ]
          },
          "metadata": {},
          "execution_count": 3
        }
      ]
    },
    {
      "cell_type": "code",
      "source": [
        "\n",
        "#program to change the key in a given dictionary \n",
        "\n",
        "sample_dict={\"name\":\"john\",\"age\":5,\"salary\":8000,\"city\":\"Newyork\"}\n",
        "print(\"before change. \",sample_dict)\n",
        "sample_dict['location']=sample_dict.pop('city')\n",
        "print(\"After change. \",sample_dict)"
      ],
      "metadata": {
        "colab": {
          "base_uri": "https://localhost:8080/"
        },
        "id": "KbPm7vQmHTXp",
        "outputId": "a49da771-d00a-4516-cb34-28f9d8e0ea43"
      },
      "execution_count": null,
      "outputs": [
        {
          "output_type": "stream",
          "name": "stdout",
          "text": [
            "before change.  {'name': 'john', 'age': 5, 'salary': 8000, 'city': 'Newyork'}\n",
            "After change.  {'name': 'john', 'age': 5, 'salary': 8000, 'location': 'Newyork'}\n"
          ]
        }
      ]
    },
    {
      "cell_type": "code",
      "source": [
        "\n",
        "#program to change the salary of emp3 in a dictionary \n",
        "\n",
        "sample_dict={'emp1':{'name':'john','salary':7500},\n",
        "'emp2':{'name':'emma','salary':8000},\n",
        "'emp3':{'name':'brad','salary':500}}\n",
        "print(sample_dict)\n",
        "sample_dict['emp3']['salary']=8500\n",
        "print(sample_dict)"
      ],
      "metadata": {
        "colab": {
          "base_uri": "https://localhost:8080/"
        },
        "id": "joDVg4Iu-sSg",
        "outputId": "980940dd-ae74-4c20-9690-013d8f8b2ddc"
      },
      "execution_count": null,
      "outputs": [
        {
          "output_type": "stream",
          "name": "stdout",
          "text": [
            "{'emp1': {'name': 'john', 'salary': 7500}, 'emp2': {'name': 'emma', 'salary': 8000}, 'emp3': {'name': 'brad', 'salary': 500}}\n",
            "{'emp1': {'name': 'john', 'salary': 7500}, 'emp2': {'name': 'emma', 'salary': 8000}, 'emp3': {'name': 'brad', 'salary': 8500}}\n"
          ]
        }
      ]
    },
    {
      "cell_type": "code",
      "source": [
        "\n",
        "# copy 43 and 54 in to a new tuple\n",
        "\n",
        "tuple1=(10,20,43,54,56,68)\n",
        "Tuple2=(tuple1[2],tuple1[3])\n",
        "Tuple2"
      ],
      "metadata": {
        "colab": {
          "base_uri": "https://localhost:8080/"
        },
        "id": "YRukAPXjCcur",
        "outputId": "ed066af3-b3ec-4b48-8a5b-16b9093356cf"
      },
      "execution_count": null,
      "outputs": [
        {
          "output_type": "execute_result",
          "data": {
            "text/plain": [
              "(43, 54)"
            ]
          },
          "metadata": {},
          "execution_count": 26
        }
      ]
    },
    {
      "cell_type": "code",
      "source": [
        "\n",
        "#program to count the occurrence of 50\n",
        "\n",
        "tuple1=(50,10,60,70,50,83,567,50,81)\n",
        "tuple1.count(50)"
      ],
      "metadata": {
        "colab": {
          "base_uri": "https://localhost:8080/"
        },
        "id": "OqsJETWi4miB",
        "outputId": "abec845f-d435-4bd4-a819-6abf09365270"
      },
      "execution_count": null,
      "outputs": [
        {
          "output_type": "execute_result",
          "data": {
            "text/plain": [
              "3"
            ]
          },
          "metadata": {},
          "execution_count": 29
        }
      ]
    }
  ]
}